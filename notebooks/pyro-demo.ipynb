{
 "cells": [
  {
   "cell_type": "code",
   "execution_count": 1,
   "id": "df46d054",
   "metadata": {},
   "outputs": [],
   "source": [
    "import sys\n",
    "sys.path.extend(['..'])"
   ]
  },
  {
   "cell_type": "code",
   "execution_count": 2,
   "id": "898c7d13",
   "metadata": {},
   "outputs": [],
   "source": [
    "import torch\n",
    "from distributions import log_prob_banana as log_p\n",
    "from mvn import MVNDiag as MVN\n",
    "from pyro.infer.mcmc.nuts import NUTS\n",
    "from pyro.infer.mcmc import MCMC\n",
    "import matplotlib.pyplot as plt\n",
    "\n",
    "%matplotlib inline"
   ]
  },
  {
   "cell_type": "code",
   "execution_count": 3,
   "id": "707c5877",
   "metadata": {},
   "outputs": [],
   "source": [
    "q, lam_kl = MVN(d=2), 2.\n",
    "def log_psi(th):\n",
    "    q.set_theta(th)\n",
    "    kl_qp = -q.entropy() - q.monte_carlo_ev(log_p, 50)\n",
    "    return 0.5*q.log_det_fisher() - lam_kl * kl_qp\n",
    "\n",
    "def potential(para):\n",
    "    return -log_psi(para['theta'])"
   ]
  },
  {
   "cell_type": "code",
   "execution_count": null,
   "id": "69dad833",
   "metadata": {},
   "outputs": [
    {
     "name": "stderr",
     "output_type": "stream",
     "text": [
      "Warmup:  14%|█████▋                                    | 109/800 [04:13, 25.09s/it, step size=7.44e-04, acc. prob=0.772]                                                          "
     ]
    }
   ],
   "source": [
    "kernel = NUTS(potential_fn=potential, adapt_step_size=True, adapt_mass_matrix=True, full_mass=False)\n",
    "sampler = MCMC(kernel, num_samples=500, warmup_steps=300, initial_params={'theta': torch.zeros(q.n_params)})\n",
    "sampler.run(None)"
   ]
  },
  {
   "cell_type": "code",
   "execution_count": null,
   "id": "aaa858cb",
   "metadata": {},
   "outputs": [],
   "source": [
    "plt.plot(sampler.get_samples()['theta'])\n",
    "plt.legend(['$\\mu_x$','$\\mu_y$','$\\log\\sigma_x$','$\\log\\sigma_y$'])\n",
    "plt.title('results using Pyro NUTS')\n",
    "plt.xlabel('sample #')"
   ]
  }
 ],
 "metadata": {
  "kernelspec": {
   "display_name": "Python 3 (ipykernel)",
   "language": "python",
   "name": "python3"
  },
  "language_info": {
   "codemirror_mode": {
    "name": "ipython",
    "version": 3
   },
   "file_extension": ".py",
   "mimetype": "text/x-python",
   "name": "python",
   "nbconvert_exporter": "python",
   "pygments_lexer": "ipython3",
   "version": "3.9.10"
  }
 },
 "nbformat": 4,
 "nbformat_minor": 5
}
