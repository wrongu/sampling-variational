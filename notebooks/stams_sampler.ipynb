{
 "cells": [
  {
   "cell_type": "code",
   "execution_count": null,
   "id": "urban-browser",
   "metadata": {},
   "outputs": [],
   "source": [
    "import torch\n",
    "import sys\n",
    "sys.path.extend(['..'])\n",
    "from mvn import MVNIso, MVNDiag, MVNFull, create_mog\n",
    "from distributions import log_prob_banana, log_prob_cigar\n",
    "from samplers import stams_mvn_langevin\n",
    "from util import acf, ess\n",
    "import matplotlib.pyplot as plt\n",
    "%matplotlib inline"
   ]
  },
  {
   "cell_type": "markdown",
   "id": "informative-disposal",
   "metadata": {},
   "source": [
    "Select the target distribution, family of q, and hyperparameter $\\lambda_{KL}$"
   ]
  },
  {
   "cell_type": "code",
   "execution_count": null,
   "id": "mounted-royalty",
   "metadata": {},
   "outputs": [],
   "source": [
    "log_p = log_prob_banana\n",
    "q_class = MVNIso\n",
    "lambda_kl = 2.0\n",
    "n_samples = 5000"
   ]
  },
  {
   "cell_type": "markdown",
   "id": "rotary-merit",
   "metadata": {},
   "source": [
    "Run the sampler"
   ]
  },
  {
   "cell_type": "code",
   "execution_count": null,
   "id": "configured-newcastle",
   "metadata": {},
   "outputs": [],
   "source": [
    "info = stams_mvn_langevin(log_p, lambda_kl, q_class.new_random(d=2), n_samples=n_samples)"
   ]
  },
  {
   "cell_type": "markdown",
   "id": "peaceful-photography",
   "metadata": {},
   "source": [
    "For visualization purposes, make a discrete grid of x, y and compute the $p(x)$ density on it"
   ]
  },
  {
   "cell_type": "code",
   "execution_count": null,
   "id": "pressed-wichita",
   "metadata": {},
   "outputs": [],
   "source": [
    "x = torch.linspace(-4, 4, 201)\n",
    "xx, yy = torch.meshgrid(x, x)\n",
    "xy = torch.stack([xx.flatten(), yy.flatten()], dim=0)\n",
    "log_p_grid = log_p(xy)\n",
    "p_grid = (log_p_grid - torch.logsumexp(log_p_grid.flatten(), dim=0)).exp().reshape(xx.size())"
   ]
  },
  {
   "cell_type": "code",
   "execution_count": null,
   "id": "familiar-montgomery",
   "metadata": {},
   "outputs": [],
   "source": [
    "var_names = [r'$\\mu_x$', r'$\\mu_y$', r'$\\log\\sigma$']\n",
    "\n",
    "fig, ax = plt.subplots(2, 2, figsize=(8, 8))\n",
    "ax[0,0].plot(info['samples'])\n",
    "ax[0,0].legend(var_names)\n",
    "ax[0,0].set_title('Langevin sample traces')\n",
    "ax[0,1].plot(info['log_psi'])\n",
    "ax[0,1].set_title(r'$\\log\\psi(\\theta)$ for each sample')\n",
    "ax[1,0].plot(acf(info['samples']).clip(0.,1.))\n",
    "ax[1,0].set_title('Autocorrelation and ESS')\n",
    "ax[1,0].legend([f'{name}: {ess:.1f}' for name, ess in zip(var_names, ess(info['samples']))])\n",
    "ax[1,1].contourf(xx, yy, p_grid, origin='lower')\n",
    "q = q_class(d=2)\n",
    "for i in range(0, n_samples, n_samples//50):\n",
    "    q.theta = info['samples'][i, :]\n",
    "    x, y = q.ellipse(nsigma=1.)\n",
    "    ax[1,1].plot(x, y, '-', color=(1., 0., 0., .5))\n",
    "fig.tight_layout()"
   ]
  },
  {
   "cell_type": "markdown",
   "id": "stopped-chancellor",
   "metadata": {},
   "source": [
    "Compute $m(x)$ and plot it alongside $p(x)$ contours"
   ]
  },
  {
   "cell_type": "code",
   "execution_count": null,
   "id": "genuine-farmer",
   "metadata": {},
   "outputs": [],
   "source": [
    "mixture = create_mog((q_class(theta=th) for th in info['samples']))\n",
    "log_m_grid = mixture.log_prob(xy.T)\n",
    "m_grid = (log_m_grid - torch.logsumexp(log_m_grid.flatten(), dim=0)).exp().reshape(xx.size())"
   ]
  },
  {
   "cell_type": "code",
   "execution_count": 7,
   "id": "aggressive-bunny",
   "metadata": {},
   "outputs": [
    {
     "data": {
      "text/plain": [
       "Text(0.5, 1.0, 'm(x) with 5000 components, $\\\\lambda_{KL}=2.0$')"
      ]
     },
     "execution_count": 7,
     "metadata": {},
     "output_type": "execute_result"
    },
    {
     "data": {
      "image/png": "[encoded data removed]",
      "text/plain": [
       "<Figure size 576x288 with 2 Axes>"
      ]
     },
     "metadata": {
      "needs_background": "light"
     },
     "output_type": "display_data"
    }
   ],
   "source": [
    "fig, ax = plt.subplots(1, 2, figsize=(8, 4))\n",
    "ax[0].contourf(xx, yy, p_grid, origin='lower')\n",
    "ax[0].set_title('Target p(x)')\n",
    "ax[1].contourf(xx, yy, m_grid, origin='lower')\n",
    "ax[1].set_title(f'm(x) with {n_samples} components, $\\lambda_{{KL}}={lambda_kl}$')"
   ]
  }
 ],
 "metadata": {
  "kernelspec": {
   "display_name": "Python 3 (ipykernel)",
   "language": "python",
   "name": "python3"
  },
  "language_info": {
   "codemirror_mode": {
    "name": "ipython",
    "version": 3
   },
   "file_extension": ".py",
   "mimetype": "text/x-python",
   "name": "python",
   "nbconvert_exporter": "python",
   "pygments_lexer": "ipython3",
   "version": "3.9.6"
  }
 },
 "nbformat": 4,
 "nbformat_minor": 5
}
