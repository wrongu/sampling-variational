{
 "cells": [
  {
   "cell_type": "code",
   "execution_count": 1,
   "id": "8dffbdc5",
   "metadata": {
    "hideCode": false,
    "hidePrompt": false
   },
   "outputs": [],
   "source": [
    "import sys\n",
    "sys.path.extend(['..'])\n",
    "import torch\n",
    "import matplotlib.pyplot as plt\n",
    "from math import sqrt, pi\n",
    "import numpy as np\n",
    "from mvn import MVNFull as MVN\n",
    "%matplotlib inline"
   ]
  },
  {
   "cell_type": "markdown",
   "id": "29086359",
   "metadata": {
    "hideCode": false,
    "hidePrompt": false
   },
   "source": [
    "## 1d stuff"
   ]
  },
  {
   "cell_type": "code",
   "execution_count": 2,
   "id": "af2603ac",
   "metadata": {
    "hideCode": false,
    "hidePrompt": false
   },
   "outputs": [],
   "source": [
    "q = MVN(d=1)"
   ]
  },
  {
   "cell_type": "code",
   "execution_count": 3,
   "id": "10cf016d",
   "metadata": {
    "hideCode": false,
    "hidePrompt": false
   },
   "outputs": [],
   "source": [
    "def f(x):\n",
    "    return -x*x*x*x/8 + x*x*x - 2*x*x - x*x/4"
   ]
  },
  {
   "cell_type": "code",
   "execution_count": 4,
   "id": "ee7c2770",
   "metadata": {
    "hideCode": false,
    "hidePrompt": false
   },
   "outputs": [],
   "source": [
    "monte_carlo_ev, monte_carlo_mcse = q.monte_carlo_ev(f, n_samples=10000, include_mcse=True)"
   ]
  },
  {
   "cell_type": "code",
   "execution_count": 5,
   "id": "afc55780",
   "metadata": {
    "hideCode": false,
    "hidePrompt": false
   },
   "outputs": [],
   "source": [
    "quad_ev = [q.quadrature_ev(f, n) for n in range(1,10)]"
   ]
  },
  {
   "cell_type": "code",
   "execution_count": 6,
   "id": "147d917a",
   "metadata": {
    "hideCode": false,
    "hidePrompt": false
   },
   "outputs": [
    {
     "data": {
      "text/plain": [
       "<matplotlib.collections.LineCollection at 0x134530dc0>"
      ]
     },
     "execution_count": 6,
     "metadata": {},
     "output_type": "execute_result"
    },
    {
     "data": {
      "image/png": "[encoded data removed]",
      "text/plain": [
       "<Figure size 432x288 with 2 Axes>"
      ]
     },
     "metadata": {
      "needs_background": "light"
     },
     "output_type": "display_data"
    }
   ],
   "source": [
    "xgrid = torch.linspace(-4, 4, 500)\n",
    "plt.subplot(1,2,1)\n",
    "plt.plot(xgrid, q.to_torch_mvn().log_prob(xgrid[:,None]).exp())\n",
    "plt.plot(xgrid, f(xgrid))\n",
    "plt.subplot(1,2,2)\n",
    "plt.plot(torch.arange(len(quad_ev))+1, quad_ev)\n",
    "plt.hlines([monte_carlo_ev, monte_carlo_ev-3*monte_carlo_mcse, monte_carlo_ev+3*monte_carlo_mcse], *plt.xlim(), color='r')"
   ]
  },
  {
   "cell_type": "markdown",
   "id": "ded262d8",
   "metadata": {
    "hideCode": false,
    "hidePrompt": false
   },
   "source": [
    "## 2d stuff"
   ]
  },
  {
   "cell_type": "code",
   "execution_count": 7,
   "id": "9d13f5a7",
   "metadata": {
    "hideCode": false,
    "hidePrompt": false
   },
   "outputs": [],
   "source": [
    "# q2 = MVN(d=2)\n",
    "q2 = MVN.new_random(d=2)"
   ]
  },
  {
   "cell_type": "code",
   "execution_count": 8,
   "id": "8c0b806b",
   "metadata": {
    "hideCode": false,
    "hidePrompt": false
   },
   "outputs": [],
   "source": [
    "def f2(xy):\n",
    "    x, y = xy[0], xy[1]\n",
    "    return -x*x*x*x/8 + y*x*x - 2*y*y - x*x/4"
   ]
  },
  {
   "cell_type": "code",
   "execution_count": 9,
   "id": "8b3ddbd0",
   "metadata": {
    "hideCode": false,
    "hidePrompt": false
   },
   "outputs": [],
   "source": [
    "monte_carlo_ev2, monte_carlo_mcse2 = q2.monte_carlo_ev(f2, n_samples=10000, include_mcse=True)"
   ]
  },
  {
   "cell_type": "code",
   "execution_count": 10,
   "id": "a636cc27",
   "metadata": {
    "hideCode": false,
    "hidePrompt": false
   },
   "outputs": [],
   "source": [
    "xrange = (q2.loc()[0]-4*q2.covariance()[0,0].sqrt(), q2.loc()[0]+4*q2.covariance()[0,0].sqrt())\n",
    "yrange = (q2.loc()[1]-4*q2.covariance()[1,1].sqrt(), q2.loc()[1]+4*q2.covariance()[1,1].sqrt())\n",
    "x, y = torch.linspace(*xrange,100), torch.linspace(*yrange,100)\n",
    "xx, yy = torch.meshgrid(x,y)\n",
    "grid_xy = torch.stack([xx.flatten(), yy.flatten()], dim=1)\n",
    "lp = q2.to_torch_mvn().log_prob(grid_xy).reshape(xx.size())"
   ]
  },
  {
   "cell_type": "code",
   "execution_count": 11,
   "id": "316fc0e2",
   "metadata": {
    "hideCode": false,
    "hidePrompt": false
   },
   "outputs": [],
   "source": [
    "quad_ev2 = [q2.quadrature_ev(f2, n) for n in range(1, 10)]"
   ]
  },
  {
   "cell_type": "code",
   "execution_count": 12,
   "id": "98bb3872",
   "metadata": {
    "hideCode": false,
    "hidePrompt": false
   },
   "outputs": [
    {
     "data": {
      "text/plain": [
       "<matplotlib.collections.LineCollection at 0x13463b5e0>"
      ]
     },
     "execution_count": 12,
     "metadata": {},
     "output_type": "execute_result"
    },
    {
     "data": {
      "image/png": "[encoded data removed]",
      "text/plain": [
       "<Figure size 432x288 with 1 Axes>"
      ]
     },
     "metadata": {
      "needs_background": "light"
     },
     "output_type": "display_data"
    }
   ],
   "source": [
    "plt.plot(torch.arange(len(quad_ev2))+1, quad_ev2)\n",
    "plt.hlines([monte_carlo_ev2, monte_carlo_ev2-3*monte_carlo_mcse2, monte_carlo_ev2+3*monte_carlo_mcse2], *plt.xlim(), color='r')"
   ]
  }
 ],
 "metadata": {
  "hide_code_all_hidden": false,
  "kernelspec": {
   "display_name": "Python 3 (ipykernel)",
   "language": "python",
   "name": "python3"
  },
  "language_info": {
   "codemirror_mode": {
    "name": "ipython",
    "version": 3
   },
   "file_extension": ".py",
   "mimetype": "text/x-python",
   "name": "python",
   "nbconvert_exporter": "python",
   "pygments_lexer": "ipython3",
   "version": "3.9.6"
  }
 },
 "nbformat": 4,
 "nbformat_minor": 5
}
